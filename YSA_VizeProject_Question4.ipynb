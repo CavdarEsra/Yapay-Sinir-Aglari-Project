{
  "nbformat": 4,
  "nbformat_minor": 0,
  "metadata": {
    "colab": {
      "provenance": []
    },
    "kernelspec": {
      "name": "python3",
      "display_name": "Python 3"
    },
    "language_info": {
      "name": "python"
    }
  },
  "cells": [
    {
      "cell_type": "code",
      "source": [
        "import random\n",
        "import numpy as np\n",
        "import torch\n",
        "import torch.nn as nn\n",
        "import torch.optim as optim\n",
        "import matplotlib.pyplot as plt\n",
        "from sklearn.metrics import accuracy_score\n",
        "import pandas as pd"
      ],
      "metadata": {
        "id": "DFZcmh8PjoDm"
      },
      "execution_count": null,
      "outputs": []
    },
    {
      "cell_type": "markdown",
      "source": [
        "**4.SORU İLE İLGİLİ KOD KISMI**"
      ],
      "metadata": {
        "id": "vo4Q6idWsxjF"
      }
    },
    {
      "cell_type": "markdown",
      "source": [
        "\n",
        "\n",
        "> **4.1)**  SEED=1 iken\n",
        "\n"
      ],
      "metadata": {
        "id": "MmgJHl6yhtCf"
      }
    },
    {
      "cell_type": "markdown",
      "source": [
        "Yapay sinir ağ modeli tanımlama kısmı(eğitimsiz şekilde ileri besleme işlemi yapıyor)"
      ],
      "metadata": {
        "id": "1jpa6IpMo0im"
      }
    },
    {
      "cell_type": "code",
      "source": [
        "import torch\n",
        "import torch.nn as nn\n",
        "\n",
        "class MyNet(nn.Module):\n",
        "    def __init__(self, input_size, hidden_size, output_size):\n",
        "        super(MyNet, self).__init__()\n",
        "        self.hidden_layer = nn.Linear(input_size, hidden_size)\n",
        "        self.output_layer = nn.Linear(hidden_size, output_size)\n",
        "\n",
        "    def tanh(self, x):\n",
        "        return torch.tanh(x)\n",
        "\n",
        "    def sigmoid(self, x):\n",
        "        return 1 / (1 + torch.exp(-x))\n",
        "\n",
        "    def forward(self, x):\n",
        "        h = self.tanh(self.hidden_layer(x))\n",
        "        y = self.sigmoid(self.output_layer(h))\n",
        "        return y\n",
        "\n",
        "# Seed: aynı rastgele sayılar üretmesini sağlamak\n",
        "torch.manual_seed(1)\n",
        "\n",
        "# Input değerleri\n",
        "X = torch.tensor([[1, 2, 3],\n",
        "                  [4, 5, 6]], dtype=torch.float32)\n",
        "\n",
        "# Weight ve bias\n",
        "input_size = 3\n",
        "hidden_size = 50\n",
        "output_size = 1\n",
        "\n",
        "# Model oluşturma\n",
        "model = MyNet(input_size, hidden_size, output_size)\n",
        "\n",
        "# Print model parameters\n",
        "print(\"Modelin parametreleri aşağıdaki şekildedir:\")\n",
        "for name, param in model.named_parameters():\n",
        "    print(name, param.size())\n",
        "\n",
        "# girdi tensörü X ile ileri doğru yayılım (forward propagation) işlemi uygular ve çıktı tensörü y'yi hesaplar.\n",
        "y = model(X)\n",
        "\n",
        "# Print output\n",
        "print(\"Çıktı katmanı :\")\n",
        "print(y)"
      ],
      "metadata": {
        "colab": {
          "base_uri": "https://localhost:8080/"
        },
        "id": "UTCql8I0hrfj",
        "outputId": "105852c1-5be9-4292-aab4-594be1f07c62"
      },
      "execution_count": null,
      "outputs": [
        {
          "output_type": "stream",
          "name": "stdout",
          "text": [
            "Modelin parametreleri aşağıdaki şekildedir:\n",
            "hidden_layer.weight torch.Size([50, 3])\n",
            "hidden_layer.bias torch.Size([50])\n",
            "output_layer.weight torch.Size([1, 50])\n",
            "output_layer.bias torch.Size([1])\n",
            "Çıktı katmanı :\n",
            "tensor([[0.4892],\n",
            "        [0.5566]], grad_fn=<MulBackward0>)\n"
          ]
        }
      ]
    },
    {
      "cell_type": "markdown",
      "source": [
        "\n",
        "\n",
        "> **4.2)**   SEED=190401083 iken (okul no)\n",
        "\n"
      ],
      "metadata": {
        "id": "jsEOe_32r03m"
      }
    },
    {
      "cell_type": "code",
      "source": [
        "import torch\n",
        "import torch.nn as nn\n",
        "\n",
        "class MyNet(nn.Module):\n",
        "    def __init__(self, input_size, hidden_size, output_size):\n",
        "        super(MyNet, self).__init__()\n",
        "        self.hidden_layer = nn.Linear(input_size, hidden_size)\n",
        "        self.output_layer = nn.Linear(hidden_size, output_size)\n",
        "\n",
        "    def tanh(self, x):\n",
        "        return torch.tanh(x)\n",
        "\n",
        "    def sigmoid(self, x):\n",
        "        return 1 / (1 + torch.exp(-x))\n",
        "\n",
        "    def forward(self, x):\n",
        "        h = self.tanh(self.hidden_layer(x))\n",
        "        y = self.sigmoid(self.output_layer(h))\n",
        "        return y\n",
        "\n",
        "# Seed: aynı rastgele sayılar üretmesini sağlamak\n",
        "torch.manual_seed(190401083)\n",
        "\n",
        "# Input değerleri\n",
        "X = torch.tensor([[1, 2, 3],\n",
        "                  [4, 5, 6]], dtype=torch.float32)\n",
        "\n",
        "# Weight ve bias\n",
        "input_size = 3\n",
        "hidden_size = 50\n",
        "output_size = 1\n",
        "\n",
        "# Model oluşturma\n",
        "model = MyNet(input_size, hidden_size, output_size)\n",
        "\n",
        "# Print model parameters\n",
        "print(\"Modelin parametreleri aşağıdaki şekildedir:\")\n",
        "for name, param in model.named_parameters():\n",
        "    print(name, param.size())\n",
        "\n",
        "# girdi tensörü X ile ileri doğru yayılım (forward propagation) işlemi uygular ve çıktı tensörü y'yi hesaplar.\n",
        "y = model(X)\n",
        "\n",
        "# Print output\n",
        "print(\"Çıktı katmanı :\")\n",
        "print(y)"
      ],
      "metadata": {
        "colab": {
          "base_uri": "https://localhost:8080/"
        },
        "id": "CZO7l6w6n-KO",
        "outputId": "88d2ec27-41f5-49b6-aa47-5f6d1936a6ec"
      },
      "execution_count": null,
      "outputs": [
        {
          "output_type": "stream",
          "name": "stdout",
          "text": [
            "Modelin parametreleri aşağıdaki şekildedir:\n",
            "hidden_layer.weight torch.Size([50, 3])\n",
            "hidden_layer.bias torch.Size([50])\n",
            "output_layer.weight torch.Size([1, 50])\n",
            "output_layer.bias torch.Size([1])\n",
            "Çıktı katmanı :\n",
            "tensor([[0.6837],\n",
            "        [0.6456]], grad_fn=<MulBackward0>)\n"
          ]
        }
      ]
    }
  ]
}